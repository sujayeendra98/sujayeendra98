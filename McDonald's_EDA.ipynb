{
  "nbformat": 4,
  "nbformat_minor": 0,
  "metadata": {
    "colab": {
      "name": "McDonald's_EDA.ipynb",
      "provenance": [],
      "authorship_tag": "ABX9TyOguoiuoEJEsaNHS383NYoW",
      "include_colab_link": true
    },
    "kernelspec": {
      "name": "python3",
      "display_name": "Python 3"
    },
    "language_info": {
      "name": "python"
    }
  },
  "cells": [
    {
      "cell_type": "markdown",
      "metadata": {
        "id": "view-in-github",
        "colab_type": "text"
      },
      "source": [
        "<a href=\"https://colab.research.google.com/github/sujayeendra98/sujayeendra98/blob/master/McDonald's_EDA.ipynb\" target=\"_parent\"><img src=\"https://colab.research.google.com/assets/colab-badge.svg\" alt=\"Open In Colab\"/></a>"
      ]
    },
    {
      "cell_type": "markdown",
      "metadata": {
        "id": "Rgwt3Bclp34Y"
      },
      "source": [
        "Project Name : McDonalds EDA and Healthy Recommendation\n",
        "\n",
        "1.   EDA - Exploratary Data Analysis\n",
        "2.   Machine Learning Algorithm - unsupervised(K-Means Clustering)\n",
        "\n",
        "\n",
        "\n",
        "\n"
      ]
    },
    {
      "cell_type": "code",
      "metadata": {
        "id": "aJJtEVr_qYV5"
      },
      "source": [
        "# import necessary packages\n",
        "\n",
        "import pandas as pd\n",
        "import matplotlib.pyplot as plt\n",
        "import seaborn as sns"
      ],
      "execution_count": 2,
      "outputs": []
    },
    {
      "cell_type": "code",
      "metadata": {
        "id": "O4RGVXT6q6i0"
      },
      "source": [
        "# Extract the Data \n",
        "\n",
        "Data = pd.read_csv(\"/content/menu.csv\")\n",
        "Data.info()"
      ],
      "execution_count": null,
      "outputs": []
    },
    {
      "cell_type": "code",
      "metadata": {
        "id": "2FZlJyiXrUZr"
      },
      "source": [
        "Data.head(5)"
      ],
      "execution_count": null,
      "outputs": []
    },
    {
      "cell_type": "markdown",
      "metadata": {
        "id": "k92uk6OuteR2"
      },
      "source": [
        "\n",
        "\n",
        "1.   The %DV shows how much a nutrient in a serving of a food contributes to a total daily diet.\n",
        "2.   More than 20%dv is not healthy food\n",
        "\n"
      ]
    },
    {
      "cell_type": "code",
      "metadata": {
        "id": "4lSLWsyttrVi"
      },
      "source": [
        "Data.describe()"
      ],
      "execution_count": null,
      "outputs": []
    },
    {
      "cell_type": "code",
      "metadata": {
        "id": "2-fP9TnKuX-7"
      },
      "source": [
        "#check the missing data\n",
        "Data.isna().sum()\n"
      ],
      "execution_count": null,
      "outputs": []
    },
    {
      "cell_type": "code",
      "metadata": {
        "colab": {
          "base_uri": "https://localhost:8080/"
        },
        "id": "QF56szK1ujRk",
        "outputId": "777521a1-f087-453e-8061-74ff9644b66d"
      },
      "source": [
        "Data.columns"
      ],
      "execution_count": 8,
      "outputs": [
        {
          "output_type": "execute_result",
          "data": {
            "text/plain": [
              "Index(['Category', 'Item', 'Serving Size', 'Calories', 'Calories from Fat',\n",
              "       'Total Fat', 'Total Fat (% Daily Value)', 'Saturated Fat',\n",
              "       'Saturated Fat (% Daily Value)', 'Trans Fat', 'Cholesterol',\n",
              "       'Cholesterol (% Daily Value)', 'Sodium', 'Sodium (% Daily Value)',\n",
              "       'Carbohydrates', 'Carbohydrates (% Daily Value)', 'Dietary Fiber',\n",
              "       'Dietary Fiber (% Daily Value)', 'Sugars', 'Protein',\n",
              "       'Vitamin A (% Daily Value)', 'Vitamin C (% Daily Value)',\n",
              "       'Calcium (% Daily Value)', 'Iron (% Daily Value)'],\n",
              "      dtype='object')"
            ]
          },
          "metadata": {
            "tags": []
          },
          "execution_count": 8
        }
      ]
    },
    {
      "cell_type": "markdown",
      "metadata": {
        "id": "hObFrbb9u9FD"
      },
      "source": [
        "**Data Preparation**"
      ]
    },
    {
      "cell_type": "code",
      "metadata": {
        "id": "3MOgg5awvAki"
      },
      "source": [
        "Data_new = Data[[\n",
        "                 'Category',\n",
        "                 'Item',\n",
        "                 'Calories',\n",
        "                 'Protein',\n",
        "                 'Total Fat',\n",
        "                 'Saturated Fat',\n",
        "                 'Carbohydrates',\n",
        "                 'Trans Fat',\n",
        "                 'Cholesterol',\n",
        "                 'Sodium'\n",
        "\n",
        "]]\n",
        "\n",
        "Data_new.head(5)"
      ],
      "execution_count": null,
      "outputs": []
    },
    {
      "cell_type": "markdown",
      "metadata": {
        "id": "HoHtvJfgy5LE"
      },
      "source": [
        "How Calories are distributed\n"
      ]
    },
    {
      "cell_type": "code",
      "metadata": {
        "colab": {
          "base_uri": "https://localhost:8080/"
        },
        "id": "9tIQP7ACvkSG",
        "outputId": "029fdb4a-fcfa-4bfc-db69-84cb741baaaf"
      },
      "source": [
        "Data_new[\"Calories\"].describe()"
      ],
      "execution_count": 24,
      "outputs": [
        {
          "output_type": "execute_result",
          "data": {
            "text/plain": [
              "count     260.000000\n",
              "mean      368.269231\n",
              "std       240.269886\n",
              "min         0.000000\n",
              "25%       210.000000\n",
              "50%       340.000000\n",
              "75%       500.000000\n",
              "max      1880.000000\n",
              "Name: Calories, dtype: float64"
            ]
          },
          "metadata": {
            "tags": []
          },
          "execution_count": 24
        }
      ]
    },
    {
      "cell_type": "code",
      "metadata": {
        "colab": {
          "base_uri": "https://localhost:8080/",
          "height": 386
        },
        "id": "8LQ1jWvQw64f",
        "outputId": "9b61fefc-22bf-4122-f9f8-7e81eb0a3bdc"
      },
      "source": [
        "sns.displot(Data_new[\"Calories\"])"
      ],
      "execution_count": 29,
      "outputs": [
        {
          "output_type": "execute_result",
          "data": {
            "text/plain": [
              "<seaborn.axisgrid.FacetGrid at 0x7fb2c3a75510>"
            ]
          },
          "metadata": {
            "tags": []
          },
          "execution_count": 29
        },
        {
          "output_type": "display_data",
          "data": {
            "image/png": "[encoded data removed]",
            "text/plain": [
              "<Figure size 360x360 with 1 Axes>"
            ]
          },
          "metadata": {
            "tags": [],
            "needs_background": "light"
          }
        }
      ]
    },
    {
      "cell_type": "code",
      "metadata": {
        "colab": {
          "base_uri": "https://localhost:8080/"
        },
        "id": "TYYAih7hz2ke",
        "outputId": "adda1cdc-6ecb-4abd-f7a3-c2bd8ccbdef9"
      },
      "source": [
        "High_Calorie = Data_new.query('Calories > 1500')\n",
        "High_Calorie['Item']"
      ],
      "execution_count": 38,
      "outputs": [
        {
          "output_type": "execute_result",
          "data": {
            "text/plain": [
              "82    Chicken McNuggets (40 piece)\n",
              "Name: Item, dtype: object"
            ]
          },
          "metadata": {
            "tags": []
          },
          "execution_count": 38
        }
      ]
    },
    {
      "cell_type": "code",
      "metadata": {
        "colab": {
          "base_uri": "https://localhost:8080/"
        },
        "id": "kCcRU5XL0X5v",
        "outputId": "da0830b0-8867-4461-d008-db9ec0b709a1"
      },
      "source": [
        "Low_Calorie = Data_new.query('Calories < 10')\n",
        "Low_Calorie['Item'].head(5)"
      ],
      "execution_count": 37,
      "outputs": [
        {
          "output_type": "execute_result",
          "data": {
            "text/plain": [
              "114         Diet Coke (Small)\n",
              "115        Diet Coke (Medium)\n",
              "116         Diet Coke (Large)\n",
              "117         Diet Coke (Child)\n",
              "122    Diet Dr Pepper (Small)\n",
              "Name: Item, dtype: object"
            ]
          },
          "metadata": {
            "tags": []
          },
          "execution_count": 37
        }
      ]
    },
    {
      "cell_type": "code",
      "metadata": {
        "colab": {
          "base_uri": "https://localhost:8080/"
        },
        "id": "dxYg3HSx08eI",
        "outputId": "675fb31a-e400-4a7e-a4d8-2818e5bbbd4e"
      },
      "source": [
        "# Category VS Calories\n",
        "\n",
        "Calories = Data_new.drop('Item' , axis=1)\n",
        "Calories = Data_new.groupby(['Category'])[\"Calories\"].mean()\n",
        "Calories = Calories.sort_values(ascending = False)\n",
        "\n",
        "print(Calories)"
      ],
      "execution_count": 39,
      "outputs": [
        {
          "output_type": "stream",
          "text": [
            "Category\n",
            "Chicken & Fish        552.962963\n",
            "Smoothies & Shakes    531.428571\n",
            "Breakfast             526.666667\n",
            "Beef & Pork           494.000000\n",
            "Coffee & Tea          283.894737\n",
            "Salads                270.000000\n",
            "Snacks & Sides        245.769231\n",
            "Desserts              222.142857\n",
            "Beverages             113.703704\n",
            "Name: Calories, dtype: float64\n"
          ],
          "name": "stdout"
        }
      ]
    },
    {
      "cell_type": "code",
      "metadata": {
        "colab": {
          "base_uri": "https://localhost:8080/",
          "height": 606
        },
        "id": "nlV3300O31QB",
        "outputId": "7ac1eb56-16f3-4dd7-d686-daa99fb7165f"
      },
      "source": [
        "Category = ['Chicken & Fish', 'Smoothies & Shakes', 'Breakfast',\n",
        "'Beef & Pork', 'Coffee & Tea', 'Salads', 'Snacks & Sides','Desserts','Beverages']\n",
        "plt.figure(figsize = (15,10))\n",
        "plt.xlabel(\"Category\")\n",
        "plt.ylabel(\"Calories\")\n",
        "plt.bar(Category , Calories)\n",
        "plt.show()"
      ],
      "execution_count": 55,
      "outputs": [
        {
          "output_type": "display_data",
          "data": {
            "image/png": "[encoded data removed]",
            "text/plain": [
              "<Figure size 1080x720 with 1 Axes>"
            ]
          },
          "metadata": {
            "tags": [],
            "needs_background": "light"
          }
        }
      ]
    },
    {
      "cell_type": "code",
      "metadata": {
        "id": "rwsL9SBk4M1I"
      },
      "source": [
        ""
      ],
      "execution_count": null,
      "outputs": []
    }
  ]
}